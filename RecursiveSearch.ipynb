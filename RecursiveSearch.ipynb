{
 "cells": [
  {
   "cell_type": "markdown",
   "metadata": {},
   "source": [
    "# Recursive Dictionary Search Function"
   ]
  },
  {
   "cell_type": "markdown",
   "metadata": {},
   "source": [
    "## Load the sample data"
   ]
  },
  {
   "cell_type": "code",
   "execution_count": 28,
   "metadata": {
    "collapsed": true
   },
   "outputs": [],
   "source": [
    "import json, sys\n",
    "\n",
    "def read_json(json_filename):\n",
    "    f = open(json_filename)\n",
    "    json_data = json.load(f)\n",
    "    return json_data\n",
    "\n",
    "small_cars = read_json('small_cars.json')"
   ]
  },
  {
   "cell_type": "markdown",
   "metadata": {},
   "source": [
    "We are told that for the `get_def` function:\n",
    "\n",
    "```\n",
    "# Function that takes in a dictionary FOR A PARTICULAR CAR and a field\n",
    "# to be searched and returns the value of the field.\n",
    "```\n",
    "\n",
    "So we will mimic this by just picking car #1:"
   ]
  },
  {
   "cell_type": "code",
   "execution_count": 29,
   "metadata": {},
   "outputs": [
    {
     "data": {
      "text/plain": [
       "{'Build': {'Make': 'Audi', 'Model': 'Audi A3', 'Year': '2009'},\n",
       " 'Config': {'Dimensions': {'Length': '143'},\n",
       "  'Engine_Type': 'Audi 3.2L 6 cylinder 250hp 236ft-lbs',\n",
       "  'Height': '140',\n",
       "  'Transmission': {'Classification': '6 Speed Automatic Select Shift',\n",
       "   'Driveline': '2009',\n",
       "   'Type': 'Automatic'}},\n",
       " 'Hybrid': 'False',\n",
       " 'Performance': {'Horsepower': '250',\n",
       "  'Mileage': {'City mpg': '18', 'Highway_mpg': '25'}}}"
      ]
     },
     "execution_count": 29,
     "metadata": {},
     "output_type": "execute_result"
    }
   ],
   "source": [
    "filtered_car = small_cars['1']\n",
    "filtered_car"
   ]
  },
  {
   "cell_type": "markdown",
   "metadata": {},
   "source": [
    "## Define the recursive search function\n",
    "\n",
    "With our test data ready, let's move on to defining `get_def`..."
   ]
  },
  {
   "cell_type": "code",
   "execution_count": 22,
   "metadata": {},
   "outputs": [],
   "source": [
    "def get_value(car, field):\n",
    "    \n",
    "    # First, let's see if the field we are looking for exists at this level of the dicitonary.\n",
    "    # Because if it does, our work is already done.  We just return the value for the field.\n",
    "    \n",
    "    if field in car:\n",
    "        \n",
    "        return car[field]\n",
    "    \n",
    "    # If we reach this point, it is because the desired field is not at this level.  And if there\n",
    "    # are no \"sub\" dictionaries here, when we are done walking this branch of the tree looking for\n",
    "    # our desired field, and should return nothing.\n",
    "    #\n",
    "    # So let's see if any of the values at this level are dictionaries:\n",
    "    \n",
    "    for key in car:\n",
    "        \n",
    "        # If the value type is dictionary, use recursion to go \"down\" into it and continue the\n",
    "        # search for our desired field.  Otherwise, there is nothing to do with this key and we\n",
    "        # move on to the next one with this for loop.\n",
    "        \n",
    "        if type(car[key]) == dict:\n",
    "            \n",
    "            search_result = get_value(car[key], field)\n",
    "            \n",
    "            # Two things can happen here.\n",
    "            # Either get_value finally finishes walking the tree all the way down and finds nothing,\n",
    "            # or it finds our search key and returns a value.  So...\n",
    "            \n",
    "            # If get_value loops through everything and finds nothing, it returns a special value\n",
    "            # called \"None\" (as you can see below).  \"None\" is equivalent to \"False\" in logic terms.\n",
    "            # So if search_result has a value at all, it is \"True\", and this will return the value:\n",
    "            \n",
    "            if search_result:\n",
    "                \n",
    "                return search_result\n",
    "\n",
    "        # The implied \"else\" here is to do nothing and move on to the next key, since this one was not\n",
    "        # a dictionary.\n",
    "            \n",
    "    # So if we made it this far, it means we looped through all of the keys at this level, and found\n",
    "    # neither our desired key, nor any further dictionaries to delve into.  So return nothing:\n",
    "    \n",
    "    return None\n",
    "            \n",
    "            "
   ]
  },
  {
   "cell_type": "code",
   "execution_count": 26,
   "metadata": {},
   "outputs": [
    {
     "data": {
      "text/plain": [
       "'143'"
      ]
     },
     "execution_count": 26,
     "metadata": {},
     "output_type": "execute_result"
    }
   ],
   "source": [
    "get_value(filtered_car, 'Length')"
   ]
  }
 ],
 "metadata": {
  "kernelspec": {
   "display_name": "Python 3",
   "language": "python",
   "name": "python3"
  },
  "language_info": {
   "codemirror_mode": {
    "name": "ipython",
    "version": 3
   },
   "file_extension": ".py",
   "mimetype": "text/x-python",
   "name": "python",
   "nbconvert_exporter": "python",
   "pygments_lexer": "ipython3",
   "version": "3.6.1"
  }
 },
 "nbformat": 4,
 "nbformat_minor": 2
}
